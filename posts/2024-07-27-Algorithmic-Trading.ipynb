{
 "cells": [
  {
   "cell_type": "markdown",
   "metadata": {},
   "source": [
    "---\n",
    "title: \"算法交易\"\n",
    "author: 王一刀\n",
    "categories: [量化交易]\n",
    "date: 2024-07-27\n",
    "format: html\n",
    "---"
   ]
  },
  {
   "cell_type": "code",
   "execution_count": 2,
   "metadata": {},
   "outputs": [
    {
     "name": "stdout",
     "output_type": "stream",
     "text": [
      "(np.float64(9.932945657673585), np.float64(1.8845431800180394), np.float64(11.36217894129853), np.float64(0.05378935338333127))\n"
     ]
    }
   ],
   "source": [
    "#是的，Python 中有约翰森检验函数，即 scipy.stats.johnsonsu。\n",
    "# 该函数用于对连续型数据进行正态性检验，并返回约翰森变换后的参数。\n",
    "#以下是 scumpy.stats.johnsonsu 函数的基本用法示例：\n",
    "\n",
    "from scipy import stats\n",
    "\n",
    "# 假设有一组连续型数据\n",
    "data = [1.2, 3.4, 5.6, 7.8, 9.0]\n",
    "\n",
    "# 对数据进行约翰森正态性检验\n",
    "result = stats.johnsonsu.fit(data)\n",
    "\n",
    "# 输出约翰森变换后的参数\n",
    "print(result)\n",
    "\n",
    "\n",
    "# 需要注意的是，约翰森检验函数适用于连续型数据的正态性检验，对于离散型数据或其他类型的数据可能不适用。"
   ]
  },
  {
   "cell_type": "markdown",
   "metadata": {},
   "source": [
    "## 协整关系\n",
    "\n",
    "协整关系（Cointegration）是时间序列分析中的一个重要概念，它描述了两个或多个非平稳时间序列之间存在的长期稳定关系。\n",
    "\n",
    "在经济学和金融学中，协整关系常用于分析不同经济变量之间的长期均衡关系。例如，协整关系可以用来检验两个经济指标（如价格和工资）是否长期同步变动，从而判断它们之间是否存在长期的均衡关系。\n",
    "\n",
    "协整关系的存在需要满足一定的条件，包括：\n",
    "\n",
    "1. **变量的非平稳性**：协整关系通常存在于非平稳的时间序列之间。如果所有变量都是平稳的，那么它们之间就不存在协整关系。\n",
    "2. **长期稳定性**：协整关系描述的是变量之间的长期稳定关系。即使短期内变量之间可能出现波动或偏离，但在长期内它们会回归到均衡状态。\n",
    "3. **最小二乘法估计的有效性**：在存在协整关系的情况下，可以使用最小二乘法（OLS）对回归模型进行估计，并且得到的估计量是一致的。\n",
    "\n",
    "协整关系的检验通常使用Engle-Granger两步法或其他更复杂的统计方法。如果检验结果表明变量之间存在协整关系，那么就可以进一步分析它们之间的长期均衡关系，并进行相关的预测和政策分析。"
   ]
  }
 ],
 "metadata": {
  "kernelspec": {
   "display_name": "Python 3",
   "language": "python",
   "name": "python3"
  },
  "language_info": {
   "codemirror_mode": {
    "name": "ipython",
    "version": 3
   },
   "file_extension": ".py",
   "mimetype": "text/x-python",
   "name": "python",
   "nbconvert_exporter": "python",
   "pygments_lexer": "ipython3",
   "version": "3.12.3"
  }
 },
 "nbformat": 4,
 "nbformat_minor": 2
}
